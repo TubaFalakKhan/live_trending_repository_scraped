{
 "cells": [
  {
   "cell_type": "markdown",
   "id": "add65396",
   "metadata": {},
   "source": [
    "1 ) features:\n",
    "    user,\n",
    "    repository,\n",
    "    technology,\n",
    "    stars,\n",
    "    forks."
   ]
  },
  {
   "cell_type": "code",
   "execution_count": 13,
   "id": "74cf7adc",
   "metadata": {},
   "outputs": [],
   "source": [
    "from bs4 import BeautifulSoup\n",
    "import requests\n",
    "import pandas as pd"
   ]
  },
  {
   "cell_type": "code",
   "execution_count": 14,
   "id": "cd093540",
   "metadata": {},
   "outputs": [],
   "source": [
    "def since(daterange):\n",
    "    daterange.lower()\n",
    "    url = ''\n",
    "    if daterange == \"a\":\n",
    "        url = \"https://github.com/trending?since=monthly\"\n",
    "    elif daterange == \"b\":\n",
    "        url = \"https://github.com/trending?since=weekly\"\n",
    "    else:\n",
    "        url = \"https://github.com/trending\"\n",
    "    return url"
   ]
  },
  {
   "cell_type": "code",
   "execution_count": 15,
   "id": "0d8fceaf",
   "metadata": {},
   "outputs": [
    {
     "name": "stdout",
     "output_type": "stream",
     "text": [
      "Choose (a) for Monthly -(b) for Weekly -(c) for Daily: a\n"
     ]
    }
   ],
   "source": [
    "userinput  = input(\"Choose (a) for Monthly -(b) for Weekly -(c) for Daily: \")\n",
    "url  = since(userinput)"
   ]
  },
  {
   "cell_type": "code",
   "execution_count": 16,
   "id": "84a5478e",
   "metadata": {},
   "outputs": [],
   "source": [
    "def downloadpage(url):\n",
    "    re = requests.get(url)\n",
    "    soup = BeautifulSoup(re.text,\"html.parser\")\n",
    "    return soup\n",
    "#     file = open(\"githubpage.txt\",\"w\", encoding=\"utf-8\")\n",
    "#     file.write(re.text)\n",
    "#     file.close()"
   ]
  },
  {
   "cell_type": "code",
   "execution_count": 17,
   "id": "aac7403f",
   "metadata": {},
   "outputs": [],
   "source": [
    "page = downloadpage(url)"
   ]
  },
  {
   "cell_type": "code",
   "execution_count": 18,
   "id": "7ee2dc38",
   "metadata": {},
   "outputs": [],
   "source": [
    "table=pd.DataFrame({\"Repository\":[],\"Technology\":[],\"Stars\":[],\"Forks\":[],\"Built_by\":[]})"
   ]
  },
  {
   "cell_type": "code",
   "execution_count": 19,
   "id": "87e0a692",
   "metadata": {},
   "outputs": [],
   "source": [
    "def user(page):\n",
    "    for user in page.find_all(\"h1\",class_=\"h3 lh-condensed\"):\n",
    "        a = user.find('a',href=True)\n",
    "        table['Repository'].append(a['href'][1:])"
   ]
  },
  {
   "cell_type": "code",
   "execution_count": 20,
   "id": "3075b552",
   "metadata": {},
   "outputs": [],
   "source": [
    "def technology(page):\n",
    "    for box in page.find_all(\"article\",class_='Box-row'):\n",
    "        div = box.find(\"div\",class_=\"f6 color-fg-muted mt-2\")\n",
    "        lang = div.find(\"span\",itemprop = \"programmingLanguage\")\n",
    "        if lang!=None:\n",
    "            table[\"Technology\"].append(lang.text)\n",
    "        else:\n",
    "            table[\"Technology\"].append(\"None\")\n",
    "#     for lang in page.find_all(\"span\",itemprop = \"programmingLanguage\"):\n",
    "#      table[\"technology\"].append(lang.text)"
   ]
  },
  {
   "cell_type": "code",
   "execution_count": 21,
   "id": "0b989409",
   "metadata": {},
   "outputs": [],
   "source": [
    "def starsnForks(page):\n",
    "    counter=1\n",
    "    for star in page.find_all('a',class_=\"Link--muted d-inline-block mr-3\"):\n",
    "        if counter%2==0:\n",
    "            table[\"Forks\"].append(star.get_text().strip())\n",
    "        else:\n",
    "            table[\"Stars\"].append(star.get_text().strip())\n",
    "        counter+=1"
   ]
  },
  {
   "cell_type": "code",
   "execution_count": 22,
   "id": "d07f9094",
   "metadata": {},
   "outputs": [],
   "source": [
    "def builtBy(page):\n",
    "    for span in page.find_all('span',class_=\"d-inline-block mr-3\"):\n",
    "        table[\"Built_by\"].append([x.get('href')[1:] for x in span.find_all('a',class_=\"d-inline-block\")])"
   ]
  },
  {
   "cell_type": "code",
   "execution_count": 85,
   "id": "79741f7d",
   "metadata": {
    "scrolled": true
   },
   "outputs": [
    {
     "ename": "KeyError",
     "evalue": "'forks'",
     "output_type": "error",
     "traceback": [
      "\u001b[1;31m---------------------------------------------------------------------------\u001b[0m",
      "\u001b[1;31mKeyError\u001b[0m                                  Traceback (most recent call last)",
      "\u001b[1;32m~\\anaconda3\\lib\\site-packages\\pandas\\core\\indexes\\base.py\u001b[0m in \u001b[0;36mget_loc\u001b[1;34m(self, key, method, tolerance)\u001b[0m\n\u001b[0;32m   3628\u001b[0m             \u001b[1;32mtry\u001b[0m\u001b[1;33m:\u001b[0m\u001b[1;33m\u001b[0m\u001b[1;33m\u001b[0m\u001b[0m\n\u001b[1;32m-> 3629\u001b[1;33m                 \u001b[1;32mreturn\u001b[0m \u001b[0mself\u001b[0m\u001b[1;33m.\u001b[0m\u001b[0m_engine\u001b[0m\u001b[1;33m.\u001b[0m\u001b[0mget_loc\u001b[0m\u001b[1;33m(\u001b[0m\u001b[0mcasted_key\u001b[0m\u001b[1;33m)\u001b[0m\u001b[1;33m\u001b[0m\u001b[1;33m\u001b[0m\u001b[0m\n\u001b[0m\u001b[0;32m   3630\u001b[0m             \u001b[1;32mexcept\u001b[0m \u001b[0mKeyError\u001b[0m \u001b[1;32mas\u001b[0m \u001b[0merr\u001b[0m\u001b[1;33m:\u001b[0m\u001b[1;33m\u001b[0m\u001b[1;33m\u001b[0m\u001b[0m\n",
      "\u001b[1;32m~\\anaconda3\\lib\\site-packages\\pandas\\_libs\\index.pyx\u001b[0m in \u001b[0;36mpandas._libs.index.IndexEngine.get_loc\u001b[1;34m()\u001b[0m\n",
      "\u001b[1;32m~\\anaconda3\\lib\\site-packages\\pandas\\_libs\\index.pyx\u001b[0m in \u001b[0;36mpandas._libs.index.IndexEngine.get_loc\u001b[1;34m()\u001b[0m\n",
      "\u001b[1;32mpandas\\_libs\\hashtable_class_helper.pxi\u001b[0m in \u001b[0;36mpandas._libs.hashtable.PyObjectHashTable.get_item\u001b[1;34m()\u001b[0m\n",
      "\u001b[1;32mpandas\\_libs\\hashtable_class_helper.pxi\u001b[0m in \u001b[0;36mpandas._libs.hashtable.PyObjectHashTable.get_item\u001b[1;34m()\u001b[0m\n",
      "\u001b[1;31mKeyError\u001b[0m: 'forks'",
      "\nThe above exception was the direct cause of the following exception:\n",
      "\u001b[1;31mKeyError\u001b[0m                                  Traceback (most recent call last)",
      "\u001b[1;32m~\\AppData\\Local\\Temp\\ipykernel_11788\\2097980934.py\u001b[0m in \u001b[0;36m<module>\u001b[1;34m\u001b[0m\n\u001b[1;32m----> 1\u001b[1;33m \u001b[0mlen\u001b[0m\u001b[1;33m(\u001b[0m\u001b[0mtable\u001b[0m\u001b[1;33m[\u001b[0m\u001b[1;34m\"forks\"\u001b[0m\u001b[1;33m]\u001b[0m\u001b[1;33m)\u001b[0m\u001b[1;33m\u001b[0m\u001b[1;33m\u001b[0m\u001b[0m\n\u001b[0m",
      "\u001b[1;32m~\\anaconda3\\lib\\site-packages\\pandas\\core\\frame.py\u001b[0m in \u001b[0;36m__getitem__\u001b[1;34m(self, key)\u001b[0m\n\u001b[0;32m   3503\u001b[0m             \u001b[1;32mif\u001b[0m \u001b[0mself\u001b[0m\u001b[1;33m.\u001b[0m\u001b[0mcolumns\u001b[0m\u001b[1;33m.\u001b[0m\u001b[0mnlevels\u001b[0m \u001b[1;33m>\u001b[0m \u001b[1;36m1\u001b[0m\u001b[1;33m:\u001b[0m\u001b[1;33m\u001b[0m\u001b[1;33m\u001b[0m\u001b[0m\n\u001b[0;32m   3504\u001b[0m                 \u001b[1;32mreturn\u001b[0m \u001b[0mself\u001b[0m\u001b[1;33m.\u001b[0m\u001b[0m_getitem_multilevel\u001b[0m\u001b[1;33m(\u001b[0m\u001b[0mkey\u001b[0m\u001b[1;33m)\u001b[0m\u001b[1;33m\u001b[0m\u001b[1;33m\u001b[0m\u001b[0m\n\u001b[1;32m-> 3505\u001b[1;33m             \u001b[0mindexer\u001b[0m \u001b[1;33m=\u001b[0m \u001b[0mself\u001b[0m\u001b[1;33m.\u001b[0m\u001b[0mcolumns\u001b[0m\u001b[1;33m.\u001b[0m\u001b[0mget_loc\u001b[0m\u001b[1;33m(\u001b[0m\u001b[0mkey\u001b[0m\u001b[1;33m)\u001b[0m\u001b[1;33m\u001b[0m\u001b[1;33m\u001b[0m\u001b[0m\n\u001b[0m\u001b[0;32m   3506\u001b[0m             \u001b[1;32mif\u001b[0m \u001b[0mis_integer\u001b[0m\u001b[1;33m(\u001b[0m\u001b[0mindexer\u001b[0m\u001b[1;33m)\u001b[0m\u001b[1;33m:\u001b[0m\u001b[1;33m\u001b[0m\u001b[1;33m\u001b[0m\u001b[0m\n\u001b[0;32m   3507\u001b[0m                 \u001b[0mindexer\u001b[0m \u001b[1;33m=\u001b[0m \u001b[1;33m[\u001b[0m\u001b[0mindexer\u001b[0m\u001b[1;33m]\u001b[0m\u001b[1;33m\u001b[0m\u001b[1;33m\u001b[0m\u001b[0m\n",
      "\u001b[1;32m~\\anaconda3\\lib\\site-packages\\pandas\\core\\indexes\\base.py\u001b[0m in \u001b[0;36mget_loc\u001b[1;34m(self, key, method, tolerance)\u001b[0m\n\u001b[0;32m   3629\u001b[0m                 \u001b[1;32mreturn\u001b[0m \u001b[0mself\u001b[0m\u001b[1;33m.\u001b[0m\u001b[0m_engine\u001b[0m\u001b[1;33m.\u001b[0m\u001b[0mget_loc\u001b[0m\u001b[1;33m(\u001b[0m\u001b[0mcasted_key\u001b[0m\u001b[1;33m)\u001b[0m\u001b[1;33m\u001b[0m\u001b[1;33m\u001b[0m\u001b[0m\n\u001b[0;32m   3630\u001b[0m             \u001b[1;32mexcept\u001b[0m \u001b[0mKeyError\u001b[0m \u001b[1;32mas\u001b[0m \u001b[0merr\u001b[0m\u001b[1;33m:\u001b[0m\u001b[1;33m\u001b[0m\u001b[1;33m\u001b[0m\u001b[0m\n\u001b[1;32m-> 3631\u001b[1;33m                 \u001b[1;32mraise\u001b[0m \u001b[0mKeyError\u001b[0m\u001b[1;33m(\u001b[0m\u001b[0mkey\u001b[0m\u001b[1;33m)\u001b[0m \u001b[1;32mfrom\u001b[0m \u001b[0merr\u001b[0m\u001b[1;33m\u001b[0m\u001b[1;33m\u001b[0m\u001b[0m\n\u001b[0m\u001b[0;32m   3632\u001b[0m             \u001b[1;32mexcept\u001b[0m \u001b[0mTypeError\u001b[0m\u001b[1;33m:\u001b[0m\u001b[1;33m\u001b[0m\u001b[1;33m\u001b[0m\u001b[0m\n\u001b[0;32m   3633\u001b[0m                 \u001b[1;31m# If we have a listlike key, _check_indexing_error will raise\u001b[0m\u001b[1;33m\u001b[0m\u001b[1;33m\u001b[0m\u001b[0m\n",
      "\u001b[1;31mKeyError\u001b[0m: 'forks'"
     ]
    }
   ],
   "source": [
    "len(table[\"forks\"])"
   ]
  },
  {
   "cell_type": "code",
   "execution_count": null,
   "id": "d54a5b10",
   "metadata": {},
   "outputs": [],
   "source": [
    "table[\"repository\"].remove(\"/trekhleb/javascript-algorithms\")"
   ]
  },
  {
   "cell_type": "code",
   "execution_count": null,
   "id": "2939cfcf",
   "metadata": {},
   "outputs": [],
   "source": [
    "len(table[\"stars\"])"
   ]
  },
  {
   "cell_type": "code",
   "execution_count": null,
   "id": "11985ee0",
   "metadata": {},
   "outputs": [],
   "source": [
    "len(table[\"forks\"])"
   ]
  },
  {
   "cell_type": "code",
   "execution_count": null,
   "id": "3f3db894",
   "metadata": {},
   "outputs": [],
   "source": [
    "table[\"technology\"].clear()"
   ]
  },
  {
   "cell_type": "code",
   "execution_count": null,
   "id": "f6892acb",
   "metadata": {},
   "outputs": [],
   "source": [
    "table[\"technology\"]=ls"
   ]
  },
  {
   "cell_type": "code",
   "execution_count": 34,
   "id": "40eb9db6",
   "metadata": {},
   "outputs": [],
   "source": [
    "dataframe  = pd.DataFrame(table)"
   ]
  },
  {
   "cell_type": "code",
   "execution_count": 35,
   "id": "083625b6",
   "metadata": {},
   "outputs": [
    {
     "data": {
      "text/html": [
       "<div>\n",
       "<style scoped>\n",
       "    .dataframe tbody tr th:only-of-type {\n",
       "        vertical-align: middle;\n",
       "    }\n",
       "\n",
       "    .dataframe tbody tr th {\n",
       "        vertical-align: top;\n",
       "    }\n",
       "\n",
       "    .dataframe thead th {\n",
       "        text-align: right;\n",
       "    }\n",
       "</style>\n",
       "<table border=\"1\" class=\"dataframe\">\n",
       "  <thead>\n",
       "    <tr style=\"text-align: right;\">\n",
       "      <th></th>\n",
       "      <th>repository</th>\n",
       "      <th>technology</th>\n",
       "      <th>stars</th>\n",
       "      <th>forks</th>\n",
       "    </tr>\n",
       "  </thead>\n",
       "  <tbody>\n",
       "    <tr>\n",
       "      <th>0</th>\n",
       "      <td>shadcn/ui</td>\n",
       "      <td>TypeScript</td>\n",
       "      <td>3,947</td>\n",
       "      <td>95</td>\n",
       "    </tr>\n",
       "    <tr>\n",
       "      <th>1</th>\n",
       "      <td>flutter/flutter</td>\n",
       "      <td>Dart</td>\n",
       "      <td>148,875</td>\n",
       "      <td>24,399</td>\n",
       "    </tr>\n",
       "    <tr>\n",
       "      <th>2</th>\n",
       "      <td>TheAppleTucker/backend-GPT</td>\n",
       "      <td>JavaScript</td>\n",
       "      <td>1,104</td>\n",
       "      <td>75</td>\n",
       "    </tr>\n",
       "    <tr>\n",
       "      <th>3</th>\n",
       "      <td>trekhleb/javascript-algorithms</td>\n",
       "      <td>JavaScript</td>\n",
       "      <td>161,253</td>\n",
       "      <td>26,682</td>\n",
       "    </tr>\n",
       "    <tr>\n",
       "      <th>4</th>\n",
       "      <td>google/material-design-icons</td>\n",
       "      <td>None</td>\n",
       "      <td>47,320</td>\n",
       "      <td>9,501</td>\n",
       "    </tr>\n",
       "  </tbody>\n",
       "</table>\n",
       "</div>"
      ],
      "text/plain": [
       "                       repository  technology    stars   forks\n",
       "0                       shadcn/ui  TypeScript    3,947      95\n",
       "1                 flutter/flutter        Dart  148,875  24,399\n",
       "2      TheAppleTucker/backend-GPT  JavaScript    1,104      75\n",
       "3  trekhleb/javascript-algorithms  JavaScript  161,253  26,682\n",
       "4    google/material-design-icons        None   47,320   9,501"
      ]
     },
     "execution_count": 35,
     "metadata": {},
     "output_type": "execute_result"
    }
   ],
   "source": [
    "dataframe.head()"
   ]
  },
  {
   "cell_type": "code",
   "execution_count": 11,
   "id": "c3f33426",
   "metadata": {},
   "outputs": [],
   "source": [
    "# ls=[]\n",
    "# for box in page.find_all(\"article\",class_='Box-row'):\n",
    "#     div = box.find(\"div\",class_=\"f6 color-fg-muted mt-2\")\n",
    "#     lang = div.find(\"span\",itemprop = \"programmingLanguage\")\n",
    "#     if lang!=None:\n",
    "#         ls.append(lang.text)\n",
    "#     else:\n",
    "#         ls.append(\"None\")"
   ]
  },
  {
   "cell_type": "code",
   "execution_count": 40,
   "id": "80f69537",
   "metadata": {},
   "outputs": [],
   "source": [
    "columnname = {\"repository\":\"Repository\",\"technology\":\"Technology\",\"stars\":\"Stars\",\"forks\":\"Forks\"}"
   ]
  },
  {
   "cell_type": "code",
   "execution_count": 45,
   "id": "46540cfd",
   "metadata": {},
   "outputs": [],
   "source": [
    "dataframe.rename(columns=columnname,inplace=True)"
   ]
  },
  {
   "cell_type": "code",
   "execution_count": 46,
   "id": "46336f4d",
   "metadata": {},
   "outputs": [
    {
     "data": {
      "text/html": [
       "<div>\n",
       "<style scoped>\n",
       "    .dataframe tbody tr th:only-of-type {\n",
       "        vertical-align: middle;\n",
       "    }\n",
       "\n",
       "    .dataframe tbody tr th {\n",
       "        vertical-align: top;\n",
       "    }\n",
       "\n",
       "    .dataframe thead th {\n",
       "        text-align: right;\n",
       "    }\n",
       "</style>\n",
       "<table border=\"1\" class=\"dataframe\">\n",
       "  <thead>\n",
       "    <tr style=\"text-align: right;\">\n",
       "      <th></th>\n",
       "      <th>Repository</th>\n",
       "      <th>Technology</th>\n",
       "      <th>Stars</th>\n",
       "      <th>Forks</th>\n",
       "    </tr>\n",
       "  </thead>\n",
       "  <tbody>\n",
       "    <tr>\n",
       "      <th>0</th>\n",
       "      <td>shadcn/ui</td>\n",
       "      <td>TypeScript</td>\n",
       "      <td>3,947</td>\n",
       "      <td>95</td>\n",
       "    </tr>\n",
       "    <tr>\n",
       "      <th>1</th>\n",
       "      <td>flutter/flutter</td>\n",
       "      <td>Dart</td>\n",
       "      <td>148,875</td>\n",
       "      <td>24,399</td>\n",
       "    </tr>\n",
       "    <tr>\n",
       "      <th>2</th>\n",
       "      <td>TheAppleTucker/backend-GPT</td>\n",
       "      <td>JavaScript</td>\n",
       "      <td>1,104</td>\n",
       "      <td>75</td>\n",
       "    </tr>\n",
       "    <tr>\n",
       "      <th>3</th>\n",
       "      <td>trekhleb/javascript-algorithms</td>\n",
       "      <td>JavaScript</td>\n",
       "      <td>161,253</td>\n",
       "      <td>26,682</td>\n",
       "    </tr>\n",
       "    <tr>\n",
       "      <th>4</th>\n",
       "      <td>google/material-design-icons</td>\n",
       "      <td>None</td>\n",
       "      <td>47,320</td>\n",
       "      <td>9,501</td>\n",
       "    </tr>\n",
       "  </tbody>\n",
       "</table>\n",
       "</div>"
      ],
      "text/plain": [
       "                       Repository  Technology    Stars   Forks\n",
       "0                       shadcn/ui  TypeScript    3,947      95\n",
       "1                 flutter/flutter        Dart  148,875  24,399\n",
       "2      TheAppleTucker/backend-GPT  JavaScript    1,104      75\n",
       "3  trekhleb/javascript-algorithms  JavaScript  161,253  26,682\n",
       "4    google/material-design-icons        None   47,320   9,501"
      ]
     },
     "execution_count": 46,
     "metadata": {},
     "output_type": "execute_result"
    }
   ],
   "source": [
    "dataframe.head()"
   ]
  },
  {
   "cell_type": "code",
   "execution_count": null,
   "id": "b4d77df0",
   "metadata": {},
   "outputs": [],
   "source": []
  }
 ],
 "metadata": {
  "kernelspec": {
   "display_name": "Python 3 (ipykernel)",
   "language": "python",
   "name": "python3"
  },
  "language_info": {
   "codemirror_mode": {
    "name": "ipython",
    "version": 3
   },
   "file_extension": ".py",
   "mimetype": "text/x-python",
   "name": "python",
   "nbconvert_exporter": "python",
   "pygments_lexer": "ipython3",
   "version": "3.9.13"
  }
 },
 "nbformat": 4,
 "nbformat_minor": 5
}
