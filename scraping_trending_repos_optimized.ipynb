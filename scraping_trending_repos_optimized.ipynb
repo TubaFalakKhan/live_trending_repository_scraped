{
 "cells": [
  {
   "cell_type": "code",
   "execution_count": 1,
   "id": "936bbd08",
   "metadata": {},
   "outputs": [],
   "source": [
    "from bs4 import BeautifulSoup\n",
    "import requests\n",
    "import pandas as pd\n",
    "import matplotlib.pyplot as plt\n",
    "import datetime "
   ]
  },
  {
   "cell_type": "code",
   "execution_count": 2,
   "id": "d5435f25",
   "metadata": {},
   "outputs": [],
   "source": [
    "url = \"https://github.com/trending\""
   ]
  },
  {
   "cell_type": "code",
   "execution_count": 3,
   "id": "7204338d",
   "metadata": {},
   "outputs": [],
   "source": [
    "def since(daterange):\n",
    "    daterange.lower()\n",
    "    url = ''\n",
    "    if daterange == \"a\":\n",
    "        url = \"https://github.com/trending?since=monthly\"\n",
    "    elif daterange == \"b\":\n",
    "        url = \"https://github.com/trending?since=weekly\"\n",
    "    else:\n",
    "        url = \"https://github.com/trending\"\n",
    "    return url"
   ]
  },
  {
   "cell_type": "code",
   "execution_count": 5,
   "id": "ce65422b",
   "metadata": {},
   "outputs": [
    {
     "name": "stdout",
     "output_type": "stream",
     "text": [
      "Choose (a) for Monthly -(b) for Weekly -(c) for Daily: a\n"
     ]
    }
   ],
   "source": [
    "userinput  = input(\"Choose (a) for Monthly -(b) for Weekly -(c) for Daily: \")\n",
    "url  = since(userinput)"
   ]
  },
  {
   "cell_type": "code",
   "execution_count": 6,
   "id": "f25b2c6e",
   "metadata": {},
   "outputs": [],
   "source": [
    "def downloadpage(url):\n",
    "    re = requests.get(url)\n",
    "    soup = BeautifulSoup(re.text,\"html.parser\")\n",
    "    return soup"
   ]
  },
  {
   "cell_type": "code",
   "execution_count": 7,
   "id": "bd18f5e3",
   "metadata": {},
   "outputs": [],
   "source": [
    "page = downloadpage(url)"
   ]
  },
  {
   "cell_type": "code",
   "execution_count": 8,
   "id": "b1186080",
   "metadata": {},
   "outputs": [],
   "source": [
    "def user(box):\n",
    "    h1 =box.find(\"h1\",class_=\"h3 lh-condensed\")\n",
    "    a = h1.find('a',href=True)\n",
    "    return a['href'][1:]"
   ]
  },
  {
   "cell_type": "code",
   "execution_count": 9,
   "id": "b7327ddf",
   "metadata": {},
   "outputs": [],
   "source": [
    "def technology(box):\n",
    "    div = box.find(\"div\",class_=\"f6 color-fg-muted mt-2\")\n",
    "    lang = div.find(\"span\",itemprop = \"programmingLanguage\")\n",
    "    if lang!=None:\n",
    "            return lang.text\n",
    "    else:\n",
    "            return \"None\""
   ]
  },
  {
   "cell_type": "code",
   "execution_count": 10,
   "id": "640552f8",
   "metadata": {},
   "outputs": [],
   "source": [
    "def starsnForks(box):\n",
    "    a = box.find_all('a',class_=\"Link--muted d-inline-block mr-3\")\n",
    "    starnfork = [a[0].get_text().strip(),a[1].get_text().strip()]\n",
    "    return starnfork"
   ]
  },
  {
   "cell_type": "code",
   "execution_count": 11,
   "id": "0cf0fda7",
   "metadata": {},
   "outputs": [],
   "source": [
    "def builtBy(box):\n",
    "    span = box.find('span',class_=\"d-inline-block mr-3\")\n",
    "    return [x.get('href')[1:] for x in span.find_all('a',class_=\"d-inline-block\")]"
   ]
  },
  {
   "cell_type": "code",
   "execution_count": 12,
   "id": "8b8cee14",
   "metadata": {},
   "outputs": [],
   "source": [
    "def main(page):\n",
    "    for box in page.find_all(\"article\",class_='Box-row'):\n",
    "        users = user(box)\n",
    "        tech = technology(box)\n",
    "        star = starsnForks(box)[0]\n",
    "        fork = starsnForks(box)[1]\n",
    "        contributers = builtBy(box)\n",
    "        row = {\"Repository\":users,\"Technology\":tech,\"Stars\":star,\"Forks\":fork,\"Built_by\":contributers}\n",
    "        table.loc[len(table)] = [users,tech,star,fork,contributers]"
   ]
  },
  {
   "cell_type": "code",
   "execution_count": 13,
   "id": "2a654e78",
   "metadata": {},
   "outputs": [
    {
     "name": "stderr",
     "output_type": "stream",
     "text": [
      "C:\\Users\\Hp\\anaconda3\\lib\\site-packages\\pandas\\core\\dtypes\\cast.py:883: VisibleDeprecationWarning: Creating an ndarray from ragged nested sequences (which is a list-or-tuple of lists-or-tuples-or ndarrays with different lengths or shapes) is deprecated. If you meant to do this, you must specify 'dtype=object' when creating the ndarray.\n",
      "  element = np.asarray(element)\n"
     ]
    }
   ],
   "source": [
    "table=pd.DataFrame({\"Repository\":[],\"Technology\":[],\"Stars\":[],\"Forks\":[],\"Built_by\":[]})\n",
    "main(page)"
   ]
  },
  {
   "cell_type": "code",
   "execution_count": 14,
   "id": "354ca811",
   "metadata": {},
   "outputs": [
    {
     "data": {
      "text/html": [
       "<div>\n",
       "<style scoped>\n",
       "    .dataframe tbody tr th:only-of-type {\n",
       "        vertical-align: middle;\n",
       "    }\n",
       "\n",
       "    .dataframe tbody tr th {\n",
       "        vertical-align: top;\n",
       "    }\n",
       "\n",
       "    .dataframe thead th {\n",
       "        text-align: right;\n",
       "    }\n",
       "</style>\n",
       "<table border=\"1\" class=\"dataframe\">\n",
       "  <thead>\n",
       "    <tr style=\"text-align: right;\">\n",
       "      <th></th>\n",
       "      <th>Repository</th>\n",
       "      <th>Technology</th>\n",
       "      <th>Stars</th>\n",
       "      <th>Forks</th>\n",
       "      <th>Built_by</th>\n",
       "    </tr>\n",
       "  </thead>\n",
       "  <tbody>\n",
       "    <tr>\n",
       "      <th>0</th>\n",
       "      <td>DataTalksClub/data-engineering-zoomcamp</td>\n",
       "      <td>Jupyter Notebook</td>\n",
       "      <td>11,268</td>\n",
       "      <td>2,451</td>\n",
       "      <td>[alexeygrigorev, sejalv, Victoriapm, AnkushKha...</td>\n",
       "    </tr>\n",
       "    <tr>\n",
       "      <th>1</th>\n",
       "      <td>openai/openai-cookbook</td>\n",
       "      <td>Python</td>\n",
       "      <td>10,239</td>\n",
       "      <td>1,007</td>\n",
       "      <td>[ted-at-openai, colin-jarvis, BorisPower, cmur...</td>\n",
       "    </tr>\n",
       "    <tr>\n",
       "      <th>2</th>\n",
       "      <td>LAION-AI/Open-Assistant</td>\n",
       "      <td>Python</td>\n",
       "      <td>5,172</td>\n",
       "      <td>441</td>\n",
       "      <td>[fozziethebeat, yk, andreaskoepf, AbdBarho, an...</td>\n",
       "    </tr>\n",
       "    <tr>\n",
       "      <th>3</th>\n",
       "      <td>brycedrennan/imaginAIry</td>\n",
       "      <td>Python</td>\n",
       "      <td>5,446</td>\n",
       "      <td>242</td>\n",
       "      <td>[brycedrennan, PaulMest, kianmeng, dfyx, mqudsi]</td>\n",
       "    </tr>\n",
       "    <tr>\n",
       "      <th>4</th>\n",
       "      <td>lencx/ChatGPT</td>\n",
       "      <td>Rust</td>\n",
       "      <td>6,304</td>\n",
       "      <td>482</td>\n",
       "      <td>[lencx, yixinBC, tk103331, Irene-123, VinchanGit]</td>\n",
       "    </tr>\n",
       "  </tbody>\n",
       "</table>\n",
       "</div>"
      ],
      "text/plain": [
       "                                Repository        Technology   Stars  Forks  \\\n",
       "0  DataTalksClub/data-engineering-zoomcamp  Jupyter Notebook  11,268  2,451   \n",
       "1                   openai/openai-cookbook            Python  10,239  1,007   \n",
       "2                  LAION-AI/Open-Assistant            Python   5,172    441   \n",
       "3                  brycedrennan/imaginAIry            Python   5,446    242   \n",
       "4                            lencx/ChatGPT              Rust   6,304    482   \n",
       "\n",
       "                                            Built_by  \n",
       "0  [alexeygrigorev, sejalv, Victoriapm, AnkushKha...  \n",
       "1  [ted-at-openai, colin-jarvis, BorisPower, cmur...  \n",
       "2  [fozziethebeat, yk, andreaskoepf, AbdBarho, an...  \n",
       "3   [brycedrennan, PaulMest, kianmeng, dfyx, mqudsi]  \n",
       "4  [lencx, yixinBC, tk103331, Irene-123, VinchanGit]  "
      ]
     },
     "execution_count": 14,
     "metadata": {},
     "output_type": "execute_result"
    }
   ],
   "source": [
    "table.head()"
   ]
  },
  {
   "cell_type": "code",
   "execution_count": 15,
   "id": "521fe5d1",
   "metadata": {},
   "outputs": [],
   "source": [
    "userrepo = table[\"Repository\"].str.split(\"/\",n=1,expand =True)"
   ]
  },
  {
   "cell_type": "code",
   "execution_count": 16,
   "id": "09e20d48",
   "metadata": {},
   "outputs": [],
   "source": [
    "table[\"User\"] = userrepo[0]"
   ]
  },
  {
   "cell_type": "code",
   "execution_count": 17,
   "id": "6789ec1e",
   "metadata": {},
   "outputs": [],
   "source": [
    "table.drop(columns=[\"Repository\"],inplace=True)"
   ]
  },
  {
   "cell_type": "code",
   "execution_count": 18,
   "id": "60cce4c4",
   "metadata": {},
   "outputs": [],
   "source": [
    "table[\"Repository\"] = userrepo[1]"
   ]
  },
  {
   "cell_type": "code",
   "execution_count": 19,
   "id": "05e51378",
   "metadata": {},
   "outputs": [],
   "source": [
    "column = table.pop(\"User\")\n",
    "table.insert(0,'User',column)"
   ]
  },
  {
   "cell_type": "code",
   "execution_count": 20,
   "id": "f96e3edb",
   "metadata": {},
   "outputs": [],
   "source": [
    "column = table.pop(\"Repository\")\n",
    "table.insert(1,'Repository',column)"
   ]
  },
  {
   "cell_type": "code",
   "execution_count": 21,
   "id": "67ab9052",
   "metadata": {
    "scrolled": true
   },
   "outputs": [
    {
     "data": {
      "text/html": [
       "<div>\n",
       "<style scoped>\n",
       "    .dataframe tbody tr th:only-of-type {\n",
       "        vertical-align: middle;\n",
       "    }\n",
       "\n",
       "    .dataframe tbody tr th {\n",
       "        vertical-align: top;\n",
       "    }\n",
       "\n",
       "    .dataframe thead th {\n",
       "        text-align: right;\n",
       "    }\n",
       "</style>\n",
       "<table border=\"1\" class=\"dataframe\">\n",
       "  <thead>\n",
       "    <tr style=\"text-align: right;\">\n",
       "      <th></th>\n",
       "      <th>User</th>\n",
       "      <th>Repository</th>\n",
       "      <th>Technology</th>\n",
       "      <th>Stars</th>\n",
       "      <th>Forks</th>\n",
       "      <th>Built_by</th>\n",
       "    </tr>\n",
       "  </thead>\n",
       "  <tbody>\n",
       "    <tr>\n",
       "      <th>0</th>\n",
       "      <td>DataTalksClub</td>\n",
       "      <td>data-engineering-zoomcamp</td>\n",
       "      <td>Jupyter Notebook</td>\n",
       "      <td>11,268</td>\n",
       "      <td>2,451</td>\n",
       "      <td>[alexeygrigorev, sejalv, Victoriapm, AnkushKha...</td>\n",
       "    </tr>\n",
       "    <tr>\n",
       "      <th>1</th>\n",
       "      <td>openai</td>\n",
       "      <td>openai-cookbook</td>\n",
       "      <td>Python</td>\n",
       "      <td>10,239</td>\n",
       "      <td>1,007</td>\n",
       "      <td>[ted-at-openai, colin-jarvis, BorisPower, cmur...</td>\n",
       "    </tr>\n",
       "    <tr>\n",
       "      <th>2</th>\n",
       "      <td>LAION-AI</td>\n",
       "      <td>Open-Assistant</td>\n",
       "      <td>Python</td>\n",
       "      <td>5,172</td>\n",
       "      <td>441</td>\n",
       "      <td>[fozziethebeat, yk, andreaskoepf, AbdBarho, an...</td>\n",
       "    </tr>\n",
       "    <tr>\n",
       "      <th>3</th>\n",
       "      <td>brycedrennan</td>\n",
       "      <td>imaginAIry</td>\n",
       "      <td>Python</td>\n",
       "      <td>5,446</td>\n",
       "      <td>242</td>\n",
       "      <td>[brycedrennan, PaulMest, kianmeng, dfyx, mqudsi]</td>\n",
       "    </tr>\n",
       "    <tr>\n",
       "      <th>4</th>\n",
       "      <td>lencx</td>\n",
       "      <td>ChatGPT</td>\n",
       "      <td>Rust</td>\n",
       "      <td>6,304</td>\n",
       "      <td>482</td>\n",
       "      <td>[lencx, yixinBC, tk103331, Irene-123, VinchanGit]</td>\n",
       "    </tr>\n",
       "  </tbody>\n",
       "</table>\n",
       "</div>"
      ],
      "text/plain": [
       "            User                 Repository        Technology   Stars  Forks  \\\n",
       "0  DataTalksClub  data-engineering-zoomcamp  Jupyter Notebook  11,268  2,451   \n",
       "1         openai            openai-cookbook            Python  10,239  1,007   \n",
       "2       LAION-AI             Open-Assistant            Python   5,172    441   \n",
       "3   brycedrennan                 imaginAIry            Python   5,446    242   \n",
       "4          lencx                    ChatGPT              Rust   6,304    482   \n",
       "\n",
       "                                            Built_by  \n",
       "0  [alexeygrigorev, sejalv, Victoriapm, AnkushKha...  \n",
       "1  [ted-at-openai, colin-jarvis, BorisPower, cmur...  \n",
       "2  [fozziethebeat, yk, andreaskoepf, AbdBarho, an...  \n",
       "3   [brycedrennan, PaulMest, kianmeng, dfyx, mqudsi]  \n",
       "4  [lencx, yixinBC, tk103331, Irene-123, VinchanGit]  "
      ]
     },
     "execution_count": 21,
     "metadata": {},
     "output_type": "execute_result"
    }
   ],
   "source": [
    "table.head()"
   ]
  },
  {
   "cell_type": "code",
   "execution_count": 22,
   "id": "6a8f56d7",
   "metadata": {},
   "outputs": [],
   "source": [
    "fname = datetime.datetime.now().strftime(\"%b_%d_%H,%M:%S\")"
   ]
  },
  {
   "cell_type": "code",
   "execution_count": 31,
   "id": "17f6a6c8",
   "metadata": {},
   "outputs": [],
   "source": [
    "table.to_csv(f\"{fname}.csv\")"
   ]
  },
  {
   "cell_type": "code",
   "execution_count": 23,
   "id": "6d3807e6",
   "metadata": {},
   "outputs": [
    {
     "data": {
      "text/plain": [
       "<AxesSubplot:ylabel='Technology'>"
      ]
     },
     "execution_count": 23,
     "metadata": {},
     "output_type": "execute_result"
    },
    {
     "data": {
      "image/png": "[encoded data removed]",
      "text/plain": [
       "<Figure size 640x480 with 1 Axes>"
      ]
     },
     "metadata": {},
     "output_type": "display_data"
    }
   ],
   "source": [
    "table['Technology'].value_counts().plot(kind=\"pie\",x=\"technology\",y=\"counts\")"
   ]
  },
  {
   "cell_type": "code",
   "execution_count": 24,
   "id": "54012f3e",
   "metadata": {},
   "outputs": [],
   "source": [
    "table[\"Contributions\"] = table[\"Built_by\"].apply(lambda row: len(row))"
   ]
  },
  {
   "cell_type": "code",
   "execution_count": 29,
   "id": "ecc54126",
   "metadata": {
    "scrolled": true
   },
   "outputs": [
    {
     "data": {
      "text/html": [
       "<div>\n",
       "<style scoped>\n",
       "    .dataframe tbody tr th:only-of-type {\n",
       "        vertical-align: middle;\n",
       "    }\n",
       "\n",
       "    .dataframe tbody tr th {\n",
       "        vertical-align: top;\n",
       "    }\n",
       "\n",
       "    .dataframe thead th {\n",
       "        text-align: right;\n",
       "    }\n",
       "</style>\n",
       "<table border=\"1\" class=\"dataframe\">\n",
       "  <thead>\n",
       "    <tr style=\"text-align: right;\">\n",
       "      <th></th>\n",
       "      <th>User</th>\n",
       "      <th>Repository</th>\n",
       "      <th>Technology</th>\n",
       "      <th>Stars</th>\n",
       "      <th>Forks</th>\n",
       "      <th>Built_by</th>\n",
       "      <th>Contributions</th>\n",
       "    </tr>\n",
       "  </thead>\n",
       "  <tbody>\n",
       "    <tr>\n",
       "      <th>20</th>\n",
       "      <td>sczhou</td>\n",
       "      <td>CodeFormer</td>\n",
       "      <td>Python</td>\n",
       "      <td>3,986</td>\n",
       "      <td>707</td>\n",
       "      <td>[sczhou, JohanAR, chenxwh]</td>\n",
       "      <td>3</td>\n",
       "    </tr>\n",
       "    <tr>\n",
       "      <th>21</th>\n",
       "      <td>lucidrains</td>\n",
       "      <td>PaLM-rlhf-pytorch</td>\n",
       "      <td>Python</td>\n",
       "      <td>4,647</td>\n",
       "      <td>309</td>\n",
       "      <td>[lucidrains, ell-hol, eltociear, hypnopump]</td>\n",
       "      <td>4</td>\n",
       "    </tr>\n",
       "    <tr>\n",
       "      <th>22</th>\n",
       "      <td>pola-rs</td>\n",
       "      <td>polars</td>\n",
       "      <td>Rust</td>\n",
       "      <td>13,027</td>\n",
       "      <td>648</td>\n",
       "      <td>[ritchie46, stinodego, alexander-beedie, zunde...</td>\n",
       "      <td>5</td>\n",
       "    </tr>\n",
       "    <tr>\n",
       "      <th>23</th>\n",
       "      <td>facebook</td>\n",
       "      <td>folly</td>\n",
       "      <td>C++</td>\n",
       "      <td>24,624</td>\n",
       "      <td>5,025</td>\n",
       "      <td>[yfeldblum, Orvid, simpkins, andriigrynenko, d...</td>\n",
       "      <td>5</td>\n",
       "    </tr>\n",
       "    <tr>\n",
       "      <th>24</th>\n",
       "      <td>AmruthPillai</td>\n",
       "      <td>Reactive-Resume</td>\n",
       "      <td>TypeScript</td>\n",
       "      <td>10,731</td>\n",
       "      <td>1,227</td>\n",
       "      <td>[AmruthPillai, gianantoniopini, apps/dependabo...</td>\n",
       "      <td>5</td>\n",
       "    </tr>\n",
       "  </tbody>\n",
       "</table>\n",
       "</div>"
      ],
      "text/plain": [
       "            User         Repository  Technology   Stars  Forks  \\\n",
       "20        sczhou         CodeFormer      Python   3,986    707   \n",
       "21    lucidrains  PaLM-rlhf-pytorch      Python   4,647    309   \n",
       "22       pola-rs             polars        Rust  13,027    648   \n",
       "23      facebook              folly         C++  24,624  5,025   \n",
       "24  AmruthPillai    Reactive-Resume  TypeScript  10,731  1,227   \n",
       "\n",
       "                                             Built_by  Contributions  \n",
       "20                         [sczhou, JohanAR, chenxwh]              3  \n",
       "21        [lucidrains, ell-hol, eltociear, hypnopump]              4  \n",
       "22  [ritchie46, stinodego, alexander-beedie, zunde...              5  \n",
       "23  [yfeldblum, Orvid, simpkins, andriigrynenko, d...              5  \n",
       "24  [AmruthPillai, gianantoniopini, apps/dependabo...              5  "
      ]
     },
     "execution_count": 29,
     "metadata": {},
     "output_type": "execute_result"
    }
   ],
   "source": [
    "table.tail()"
   ]
  },
  {
   "cell_type": "code",
   "execution_count": 35,
   "id": "eb602ab8",
   "metadata": {
    "scrolled": true
   },
   "outputs": [
    {
     "data": {
      "text/plain": [
       "<BarContainer object of 5 artists>"
      ]
     },
     "execution_count": 35,
     "metadata": {},
     "output_type": "execute_result"
    },
    {
     "data": {
      "image/png": "[encoded data removed]",
      "text/plain": [
       "<Figure size 640x480 with 1 Axes>"
      ]
     },
     "metadata": {},
     "output_type": "display_data"
    }
   ],
   "source": [
    "plt.bar(table[\"User\"][-5:],table['Contributions'][-5:],width=0.5)"
   ]
  },
  {
   "cell_type": "code",
   "execution_count": null,
   "id": "51a5aea3",
   "metadata": {},
   "outputs": [],
   "source": []
  },
  {
   "cell_type": "code",
   "execution_count": null,
   "id": "c64ce2ff",
   "metadata": {},
   "outputs": [],
   "source": []
  }
 ],
 "metadata": {
  "kernelspec": {
   "display_name": "Python 3 (ipykernel)",
   "language": "python",
   "name": "python3"
  },
  "language_info": {
   "codemirror_mode": {
    "name": "ipython",
    "version": 3
   },
   "file_extension": ".py",
   "mimetype": "text/x-python",
   "name": "python",
   "nbconvert_exporter": "python",
   "pygments_lexer": "ipython3",
   "version": "3.9.13"
  }
 },
 "nbformat": 4,
 "nbformat_minor": 5
}
